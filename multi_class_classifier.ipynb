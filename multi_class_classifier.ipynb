{
 "cells": [
  {
   "cell_type": "code",
   "execution_count": 1,
   "metadata": {},
   "outputs": [],
   "source": [
    "from keras_preprocessing.image import ImageDataGenerator\n",
    "from keras.preprocessing import image\n",
    "\n",
    "import tensorflow as tf\n",
    "\n",
    "import os\n",
    "\n",
    "import numpy as np\n",
    "\n",
    "import matplotlib.pyplot as plt"
   ]
  },
  {
   "cell_type": "code",
   "execution_count": 15,
   "metadata": {},
   "outputs": [],
   "source": [
    "# Variables are set here, for easy tunning\n",
    "\n",
    "# directories -----------------------------------------\n",
    "\n",
    "VALIDATION_DIR = '/home/jack/Documents/data/rps/rps_val'\n",
    "TRAINING_DIR = '/home/jack/Documents/data/rps/rps_train'\n",
    "TEST_DIR = '/home/jack/Documents/data/rps/rps_pred'\n",
    "\n",
    "# directories -----------------------------------------\n",
    "# model compiler ---------------------------------------\n",
    "\n",
    "loss = 'categorical_crossentropy'\n",
    "optimizer='rmsprop'\n",
    "metrics=['acc']\n",
    "\n",
    "# model compiler ---------------------------------------\n",
    "# image generator --------------------------------------\n",
    "\n",
    "rescale = 1./255\n",
    "rotation_range = 40\n",
    "width_shift_range = 0.2\n",
    "height_shift_range = 0.2\n",
    "shear_range = 0.2\n",
    "zoom_range = 0.2\n",
    "horizontal_flip = True\n",
    "fill_mode = 'nearest'\n",
    "\n",
    "target_size = (150,150)\n",
    "class_mode = 'categorical'\n",
    "batch_size = 126\n",
    "\n",
    "# image generator --------------------------------------\n",
    "# model fitting -------------------------------------------------------\n",
    "\n",
    "epochs=10\n",
    "steps_per_epoch=20\n",
    "verbose = 1 \n",
    "validation_steps = 3\n",
    "save_name = \"rps.h5\"\n",
    "\n",
    "# model fitting -------------------------------------------------------"
   ]
  },
  {
   "cell_type": "code",
   "execution_count": 4,
   "metadata": {
    "id": "GgvGg2nsCj-0",
    "scrolled": false
   },
   "outputs": [],
   "source": [
    "# model creation -------------------------------------------------------\n",
    "\n",
    "model = tf.keras.models.Sequential([\n",
    "\n",
    "    tf.keras.layers.Conv2D(64, (3,3), activation='relu', input_shape=(150, 150, 3)),\n",
    "    tf.keras.layers.MaxPooling2D(2, 2),\n",
    "\n",
    "    tf.keras.layers.Conv2D(64, (3,3), activation='relu'),\n",
    "    tf.keras.layers.MaxPooling2D(2,2),\n",
    "\n",
    "    tf.keras.layers.Conv2D(64, (3,3), activation='relu'),\n",
    "    tf.keras.layers.MaxPooling2D(2,2),\n",
    "\n",
    "    tf.keras.layers.Flatten(),\n",
    "    tf.keras.layers.Dropout(0.5),\n",
    "\n",
    "    tf.keras.layers.Dense(512, activation='relu'),\n",
    "    tf.keras.layers.Dense(3, activation='softmax')\n",
    "])\n",
    "\n",
    "# model creation -------------------------------------------------------"
   ]
  },
  {
   "cell_type": "code",
   "execution_count": 5,
   "metadata": {},
   "outputs": [
    {
     "name": "stdout",
     "output_type": "stream",
     "text": [
      "Model: \"sequential\"\n",
      "_________________________________________________________________\n",
      "Layer (type)                 Output Shape              Param #   \n",
      "=================================================================\n",
      "conv2d (Conv2D)              (None, 148, 148, 64)      1792      \n",
      "_________________________________________________________________\n",
      "max_pooling2d (MaxPooling2D) (None, 74, 74, 64)        0         \n",
      "_________________________________________________________________\n",
      "conv2d_1 (Conv2D)            (None, 72, 72, 64)        36928     \n",
      "_________________________________________________________________\n",
      "max_pooling2d_1 (MaxPooling2 (None, 36, 36, 64)        0         \n",
      "_________________________________________________________________\n",
      "conv2d_2 (Conv2D)            (None, 34, 34, 64)        36928     \n",
      "_________________________________________________________________\n",
      "max_pooling2d_2 (MaxPooling2 (None, 17, 17, 64)        0         \n",
      "_________________________________________________________________\n",
      "flatten (Flatten)            (None, 18496)             0         \n",
      "_________________________________________________________________\n",
      "dropout (Dropout)            (None, 18496)             0         \n",
      "_________________________________________________________________\n",
      "dense (Dense)                (None, 512)               9470464   \n",
      "_________________________________________________________________\n",
      "dense_1 (Dense)              (None, 3)                 1539      \n",
      "=================================================================\n",
      "Total params: 9,547,651\n",
      "Trainable params: 9,547,651\n",
      "Non-trainable params: 0\n",
      "_________________________________________________________________\n"
     ]
    }
   ],
   "source": [
    "model.summary()"
   ]
  },
  {
   "cell_type": "code",
   "execution_count": 6,
   "metadata": {
    "id": "OskuZ2ThFqmg"
   },
   "outputs": [],
   "source": [
    "# compile -------------------------------------------------------------\n",
    "\n",
    "model.compile(\n",
    "    loss = loss, \n",
    "    optimizer = optimizer, \n",
    "    metrics = metrics\n",
    ")\n",
    "\n",
    "# compile -------------------------------------------------------------"
   ]
  },
  {
   "cell_type": "code",
   "execution_count": 7,
   "metadata": {
    "id": "LWTisYLQM1aM"
   },
   "outputs": [
    {
     "name": "stdout",
     "output_type": "stream",
     "text": [
      "Found 2520 images belonging to 3 classes.\n",
      "Found 372 images belonging to 3 classes.\n"
     ]
    }
   ],
   "source": [
    "# train ---------------------------------------------------------------\n",
    "\n",
    "train_datagen = ImageDataGenerator(\n",
    "    rescale = rescale,\n",
    "    rotation_range = rotation_range,\n",
    "    width_shift_range = width_shift_range,\n",
    "    height_shift_range = height_shift_range,\n",
    "    shear_range = shear_range,\n",
    "    zoom_range = zoom_range,\n",
    "    horizontal_flip = horizontal_flip,\n",
    "    fill_mode = fill_mode\n",
    ")\n",
    "\n",
    "train_generator = train_datagen.flow_from_directory(\n",
    "    TRAINING_DIR,\n",
    "    target_size = target_size,\n",
    "    class_mode = class_mode,\n",
    "    batch_size = batch_size\n",
    ")\n",
    "\n",
    "# train ---------------------------------------------------------------\n",
    "# validation ----------------------------------------------------------\n",
    "\n",
    "validation_datagen = ImageDataGenerator(\n",
    "    rescale = rescale \n",
    ")\n",
    "\n",
    "validation_generator = validation_datagen.flow_from_directory(\n",
    "    VALIDATION_DIR,\n",
    "    target_size = target_size,\n",
    "    class_mode = class_mode,\n",
    "    batch_size = batch_size\n",
    ")\n",
    "\n",
    "# validation ----------------------------------------------------------"
   ]
  },
  {
   "cell_type": "code",
   "execution_count": 16,
   "metadata": {
    "id": "1mHX5L7HFXQ7"
   },
   "outputs": [
    {
     "name": "stdout",
     "output_type": "stream",
     "text": [
      "Epoch 1/10\n",
      "20/20 [==============================] - 131s 6s/step - loss: 1.0524 - acc: 0.4472 - val_loss: 1.0441 - val_acc: 0.5887\n",
      "Epoch 2/10\n",
      "20/20 [==============================] - 135s 7s/step - loss: 1.0276 - acc: 0.5429 - val_loss: 0.7352 - val_acc: 0.6102\n",
      "Epoch 3/10\n",
      "20/20 [==============================] - 129s 6s/step - loss: 0.8613 - acc: 0.6167 - val_loss: 1.1045 - val_acc: 0.4651\n",
      "Epoch 4/10\n",
      "20/20 [==============================] - 138s 7s/step - loss: 0.7707 - acc: 0.6524 - val_loss: 0.4377 - val_acc: 0.9651\n",
      "Epoch 5/10\n",
      "20/20 [==============================] - 132s 7s/step - loss: 0.8641 - acc: 0.7111 - val_loss: 0.3596 - val_acc: 0.9677\n",
      "Epoch 6/10\n",
      "20/20 [==============================] - 139s 7s/step - loss: 0.5667 - acc: 0.7571 - val_loss: 0.4307 - val_acc: 0.9140\n",
      "Epoch 7/10\n",
      "20/20 [==============================] - 137s 7s/step - loss: 0.4768 - acc: 0.8016 - val_loss: 0.2752 - val_acc: 0.9086\n",
      "Epoch 8/10\n",
      "20/20 [==============================] - 137s 7s/step - loss: 0.5122 - acc: 0.7937 - val_loss: 0.1920 - val_acc: 0.9758\n",
      "Epoch 9/10\n",
      "20/20 [==============================] - 132s 6s/step - loss: 0.4166 - acc: 0.8353 - val_loss: 0.2396 - val_acc: 0.9113\n",
      "Epoch 10/10\n",
      "20/20 [==============================] - 134s 7s/step - loss: 0.2960 - acc: 0.8845 - val_loss: 0.1076 - val_acc: 0.9812\n"
     ]
    }
   ],
   "source": [
    "# Model Fitting -------------------------------------------------------\n",
    "\n",
    "history = model.fit(train_generator, \n",
    "                    epochs = epochs, \n",
    "                    steps_per_epoch = steps_per_epoch, \n",
    "                    validation_data = validation_generator, \n",
    "                    verbose = verbose, \n",
    "                    validation_steps = validation_steps)\n",
    "\n",
    "model.save(save_name)\n",
    "\n",
    "# Model Fitting -------------------------------------------------------"
   ]
  },
  {
   "cell_type": "code",
   "execution_count": 17,
   "metadata": {
    "id": "aeTRVCr6aosw"
   },
   "outputs": [
    {
     "data": {
      "image/png": "[encoded data removed]",
      "text/plain": [
       "<Figure size 432x288 with 1 Axes>"
      ]
     },
     "metadata": {
      "needs_background": "light"
     },
     "output_type": "display_data"
    },
    {
     "data": {
      "image/png": "[encoded data removed]",
      "text/plain": [
       "<Figure size 432x288 with 1 Axes>"
      ]
     },
     "metadata": {
      "needs_background": "light"
     },
     "output_type": "display_data"
    },
    {
     "data": {
      "text/plain": [
       "<Figure size 432x288 with 0 Axes>"
      ]
     },
     "metadata": {},
     "output_type": "display_data"
    }
   ],
   "source": [
    "def plot_results(history):\n",
    "       \n",
    "    \n",
    "    # Plot the results\n",
    "    acc = history.history['acc']\n",
    "    val_acc = history.history['val_acc']\n",
    "    loss = history.history['loss']\n",
    "    val_loss = history.history['val_loss']\n",
    "\n",
    "    epochs = range(len(acc))\n",
    "\n",
    "    plt.plot(epochs, acc, 'r', label='Training accuracy')\n",
    "    plt.plot(epochs, val_acc, 'b', label='Validation accuracy')\n",
    "    plt.title('Training and validation accuracy')\n",
    "    plt.legend(loc=0)\n",
    "    plt.figure()\n",
    "\n",
    "    plt.plot(epochs, loss, 'r', label='Training loss')\n",
    "    plt.plot(epochs, val_loss, 'b', label='Validation loss')\n",
    "    plt.title('Training and validation loss')\n",
    "    plt.legend(loc=0)\n",
    "    plt.figure()\n",
    "\n",
    "    plt.show()\n",
    "\n",
    "plot_results(history)"
   ]
  },
  {
   "cell_type": "code",
   "execution_count": 18,
   "metadata": {
    "id": "ZABJp7T3VLCU"
   },
   "outputs": [
    {
     "name": "stdout",
     "output_type": "stream",
     "text": [
      "Found 36 images belonging to 1 classes.\n"
     ]
    }
   ],
   "source": [
    "# preparing data for prediction\n",
    "\n",
    "test_datagen = ImageDataGenerator(rescale = rescale)\n",
    "\n",
    "test_generator = test_datagen.flow_from_directory(\n",
    "    TEST_DIR,\n",
    "    target_size = target_size\n",
    ")\n",
    "\n",
    "filenames = test_generator.filenames\n",
    "nb_samples = len(filenames)"
   ]
  },
  {
   "cell_type": "code",
   "execution_count": 19,
   "metadata": {},
   "outputs": [],
   "source": [
    "classes = model.predict(\n",
    "    test_generator,\n",
    "    steps = 2 )"
   ]
  },
  {
   "cell_type": "code",
   "execution_count": 20,
   "metadata": {},
   "outputs": [],
   "source": [
    "# paper-rock-scissors\n",
    "#[0.8 - 0.2 - 0.0]"
   ]
  },
  {
   "cell_type": "code",
   "execution_count": 21,
   "metadata": {},
   "outputs": [
    {
     "name": "stdout",
     "output_type": "stream",
     "text": [
      "paper-hires1.png -> [0.04316065 0.00515586 0.95168346]\n",
      "paper-hires2.png -> [0.0053971  0.985424   0.00917885]\n",
      "paper03-047.png -> [1.3156037e-02 1.9707817e-05 9.8682421e-01]\n",
      "paper05-044.png -> [2.6969929e-07 9.9984848e-01 1.5130208e-04]\n",
      "paper06-104.png -> [9.9897206e-01 9.5028488e-05 9.3297451e-04]\n",
      "paper1.png -> [1.8236135e-01 6.7802017e-07 8.1763804e-01]\n",
      "paper2.png -> [0.27763608 0.00090302 0.7214609 ]\n",
      "paper3.png -> [9.9999833e-01 1.0868799e-06 6.3354594e-07]\n",
      "paper4.png -> [3.6498647e-02 2.5922538e-05 9.6347547e-01]\n",
      "paper5.png -> [3.8488835e-02 8.6189793e-05 9.6142501e-01]\n",
      "paper6.png -> [7.5214135e-04 9.9900925e-01 2.3849662e-04]\n",
      "paper7.png -> [4.8745945e-02 6.3195796e-05 9.5119083e-01]\n",
      "paper8.png -> [6.581545e-02 2.704257e-04 9.339141e-01]\n",
      "paper9.png -> [1.4236083e-05 9.9998581e-01 4.8630850e-09]\n",
      "rock-hires1.png -> [9.998330e-01 1.148094e-06 1.657782e-04]\n",
      "rock-hires2.png -> [2.7048905e-08 9.9999988e-01 1.1016631e-07]\n",
      "rock1.png -> [9.094193e-06 9.999889e-01 2.052280e-06]\n",
      "rock2.png -> [3.2759130e-02 4.5547625e-07 9.6724039e-01]\n",
      "rock3.png -> [9.5348573e-01 8.1037956e-07 4.6513528e-02]\n",
      "rock4.png -> [9.9997342e-01 2.6895527e-10 2.6634300e-05]\n",
      "rock5.png -> [2.3480795e-06 9.9985063e-01 1.4694188e-04]\n",
      "rock6.png -> [1.0496826e-01 7.1381009e-04 8.9431792e-01]\n",
      "rock7.png -> [9.3172377e-05 9.9990368e-01 3.0519761e-06]\n",
      "rock8.png -> [9.9994719e-01 8.3754122e-07 5.1930227e-05]\n",
      "rock9.png -> [9.8087847e-01 7.1029121e-04 1.8411191e-02]\n",
      "scissors-hires1.png -> [0.38053262 0.00638083 0.6130865 ]\n",
      "scissors-hires2.png -> [9.9976057e-01 1.7817779e-06 2.3767995e-04]\n",
      "scissors1.png -> [0.8216185  0.03319965 0.14518188]\n",
      "scissors2.png -> [9.9997830e-01 1.9252284e-06 1.9751184e-05]\n",
      "scissors3.png -> [8.8698923e-04 9.9863225e-01 4.8070258e-04]\n",
      "scissors4.png -> [9.9999142e-01 7.6308376e-10 8.5734646e-06]\n",
      "scissors5.png -> [3.59207164e-10 1.00000000e+00 1.08192255e-14]\n",
      "scissors6.png -> [9.9997008e-01 8.7902454e-06 2.1058768e-05]\n",
      "scissors7.png -> [9.5602894e-01 4.3801155e-02 1.6996749e-04]\n",
      "scissors8.png -> [1.7935077e-03 9.9753368e-01 6.7284796e-04]\n",
      "scissors9.png -> [0.34984973 0.53595877 0.11419147]\n"
     ]
    }
   ],
   "source": [
    "for i in range(nb_samples):\n",
    "    \n",
    "#     if classes[i].argmax() == 0:\n",
    "#         prediction = 'paper'\n",
    "#     elif classes[i].argmax() == 1:\n",
    "#         prediction = 'rock'\n",
    "#     else:\n",
    "#         prediction = 'scissors'\n",
    "\n",
    "#     print(f\"{filenames[i]} -> {prediction}\")\n",
    "    print(f\"{filenames[i].split('/')[-1]} -> {classes[i]}\")"
   ]
  },
  {
   "cell_type": "code",
   "execution_count": null,
   "metadata": {},
   "outputs": [],
   "source": []
  }
 ],
 "metadata": {
  "accelerator": "GPU",
  "colab": {
   "collapsed_sections": [],
   "name": "C2_W4_Lab_1_multi_class_classifier.ipynb",
   "private_outputs": true,
   "provenance": []
  },
  "kernelspec": {
   "display_name": "Python 3",
   "language": "python",
   "name": "python3"
  },
  "language_info": {
   "codemirror_mode": {
    "name": "ipython",
    "version": 3
   },
   "file_extension": ".py",
   "mimetype": "text/x-python",
   "name": "python",
   "nbconvert_exporter": "python",
   "pygments_lexer": "ipython3",
   "version": "3.6.9"
  }
 },
 "nbformat": 4,
 "nbformat_minor": 1
}
